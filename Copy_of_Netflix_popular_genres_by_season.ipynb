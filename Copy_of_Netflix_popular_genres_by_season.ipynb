{
  "nbformat": 4,
  "nbformat_minor": 0,
  "metadata": {
    "colab": {
      "name": "Copy_of_Netflix_popular_genres_by_season.ipynb",
      "provenance": [],
      "collapsed_sections": [],
      "include_colab_link": true
    },
    "kernelspec": {
      "name": "python3",
      "display_name": "Python 3"
    },
    "language_info": {
      "name": "python"
    }
  },
  "cells": [
    {
      "cell_type": "markdown",
      "metadata": {
        "id": "view-in-github",
        "colab_type": "text"
      },
      "source": [
        "<a href=\"https://colab.research.google.com/github/ShirFah/Big_DataProject/blob/main/Copy_of_Netflix_popular_genres_by_season.ipynb\" target=\"_parent\"><img src=\"https://colab.research.google.com/assets/colab-badge.svg\" alt=\"Open In Colab\"/></a>"
      ]
    },
    {
      "cell_type": "code",
      "source": [
        "!git clone https://github.com/ShirFah/Big_DataProject.git"
      ],
      "metadata": {
        "colab": {
          "base_uri": "https://localhost:8080/"
        },
        "id": "BG4Ad9eHKR2c",
        "outputId": "f401d18a-96c0-4b96-e757-26f573bea18f"
      },
      "execution_count": 20,
      "outputs": [
        {
          "output_type": "stream",
          "name": "stdout",
          "text": [
            "Cloning into 'Big_DataProject'...\n",
            "warning: You appear to have cloned an empty repository.\n"
          ]
        }
      ]
    },
    {
      "cell_type": "code",
      "source": [
        "!pip install pandas numpy matplotlib datetime sklearn scipy seaborn\n"
      ],
      "metadata": {
        "colab": {
          "base_uri": "https://localhost:8080/"
        },
        "id": "bsSyCPvYnXdu",
        "outputId": "d16e3cd9-a978-4328-9a49-076b18b569d4"
      },
      "execution_count": 21,
      "outputs": [
        {
          "output_type": "stream",
          "name": "stdout",
          "text": [
            "Looking in indexes: https://pypi.org/simple, https://us-python.pkg.dev/colab-wheels/public/simple/\n",
            "Requirement already satisfied: pandas in /usr/local/lib/python3.7/dist-packages (1.3.5)\n",
            "Requirement already satisfied: numpy in /usr/local/lib/python3.7/dist-packages (1.21.6)\n",
            "Requirement already satisfied: matplotlib in /usr/local/lib/python3.7/dist-packages (3.2.2)\n",
            "Requirement already satisfied: datetime in /usr/local/lib/python3.7/dist-packages (4.5)\n",
            "Requirement already satisfied: sklearn in /usr/local/lib/python3.7/dist-packages (0.0)\n",
            "Requirement already satisfied: scipy in /usr/local/lib/python3.7/dist-packages (1.4.1)\n",
            "Requirement already satisfied: seaborn in /usr/local/lib/python3.7/dist-packages (0.11.2)\n",
            "Requirement already satisfied: python-dateutil>=2.7.3 in /usr/local/lib/python3.7/dist-packages (from pandas) (2.8.2)\n",
            "Requirement already satisfied: pytz>=2017.3 in /usr/local/lib/python3.7/dist-packages (from pandas) (2022.1)\n",
            "Requirement already satisfied: six>=1.5 in /usr/local/lib/python3.7/dist-packages (from python-dateutil>=2.7.3->pandas) (1.15.0)\n",
            "Requirement already satisfied: cycler>=0.10 in /usr/local/lib/python3.7/dist-packages (from matplotlib) (0.11.0)\n",
            "Requirement already satisfied: kiwisolver>=1.0.1 in /usr/local/lib/python3.7/dist-packages (from matplotlib) (1.4.3)\n",
            "Requirement already satisfied: pyparsing!=2.0.4,!=2.1.2,!=2.1.6,>=2.0.1 in /usr/local/lib/python3.7/dist-packages (from matplotlib) (3.0.9)\n",
            "Requirement already satisfied: typing-extensions in /usr/local/lib/python3.7/dist-packages (from kiwisolver>=1.0.1->matplotlib) (4.1.1)\n",
            "Requirement already satisfied: zope.interface in /usr/local/lib/python3.7/dist-packages (from datetime) (5.4.0)\n",
            "Requirement already satisfied: scikit-learn in /usr/local/lib/python3.7/dist-packages (from sklearn) (1.0.2)\n",
            "Requirement already satisfied: threadpoolctl>=2.0.0 in /usr/local/lib/python3.7/dist-packages (from scikit-learn->sklearn) (3.1.0)\n",
            "Requirement already satisfied: joblib>=0.11 in /usr/local/lib/python3.7/dist-packages (from scikit-learn->sklearn) (1.1.0)\n",
            "Requirement already satisfied: setuptools in /usr/local/lib/python3.7/dist-packages (from zope.interface->datetime) (57.4.0)\n"
          ]
        }
      ]
    },
    {
      "cell_type": "code",
      "source": [
        "import pandas as pd\n",
        "import numpy as np\n",
        "import matplotlib.pylab as plt\n",
        "import datetime\n",
        "import math\n"
      ],
      "metadata": {
        "id": "QxSbZy34nXQX"
      },
      "execution_count": 22,
      "outputs": []
    },
    {
      "cell_type": "code",
      "source": [
        "df_genres = pd.read_csv(\"titles.csv\" , encoding='latin-1')\n",
        "pd.set_option('display.max_columns',15)"
      ],
      "metadata": {
        "id": "z35xx4wAXyE7"
      },
      "execution_count": 23,
      "outputs": []
    },
    {
      "cell_type": "code",
      "source": [
        "def find_genres_for_row(row):\n",
        "    list_genres= df_genres.loc[df_genres['title'] == row['show_title']].values.tolist()\n",
        "    if len(list_genres) >0:\n",
        "        return list_genres[0][7]\n",
        "    return np.nan\n",
        "def add_season(row):\n",
        "    date = row['week']\n",
        "    month = pd.to_datetime(date).month\n",
        "    return month%12 // 3 + 1\n",
        "\n"
      ],
      "metadata": {
        "id": "nyHgd9EiXzI4"
      },
      "execution_count": 24,
      "outputs": []
    },
    {
      "cell_type": "code",
      "source": [
        "def prepare_data(weekly_popularity_path):\n",
        "    df_pop = pd.read_csv(weekly_popularity_path)\n",
        "    df_pop = df_pop.drop(['category'],axis=1) # Removing category column\n",
        "    df_pop['category'] = df_pop.apply(lambda row : find_genres_for_row(row),axis=1) # match category for title\n",
        "    df_pop = df_pop.dropna()# Delete rows where Category is None i.e couldnt find category for specific title\n",
        "    df_pop['season'] = df_pop.apply(lambda row : add_season(row),axis=1) # add yearly season \n",
        "    return df_pop"
      ],
      "metadata": {
        "id": "4O6DqyTXX0_X"
      },
      "execution_count": 25,
      "outputs": []
    },
    {
      "cell_type": "code",
      "execution_count": 26,
      "metadata": {
        "id": "IyDY5v2QnPzz"
      },
      "outputs": [],
      "source": [
        "def create_season_df(df):\n",
        "  season_list=[] # 0 - Winter 1 - Spring 2 - Summer 3 - Autumn\n",
        "  for i in range(4):\n",
        "    season_list.append(df.loc[(df['season'] == (i+1))])\n",
        "  category_list = df['category'].unique().tolist()\n",
        "  category_lst=[]\n",
        "  category_set=set()\n",
        "  for lt in category_list:\n",
        "    category_lst.append(lt.replace('\\'','').replace('[','').replace(']','').replace(' ','').split(','))\n",
        "  for item in category_lst:\n",
        "    for category in item:\n",
        "      category_set.add(category)\n",
        "  dict_list = []\n",
        "  del season_list[1]\n",
        "  for i in range(3):\n",
        "    dict_list.append(dict.fromkeys(category_set,0))\n",
        "  count =0\n",
        "  for df in season_list:\n",
        "    for index,row in df.iterrows():\n",
        "      lt = row['category']\n",
        "      category_list_row = lt.replace('\\'','').replace('[','').replace(']','').replace(' ','').split(',')\n",
        "      for category in category_list_row:\n",
        "        dict_list[count][category] += 1+pow(2,1/row['weekly_rank'])\n",
        "    count+=1\n",
        "  count=0\n",
        "  for dict_pop in dict_list:\n",
        "    plt.xticks(rotation=90,fontsize=12)\n",
        "    plt.ylabel(\"Popularity\")\n",
        "    x=dict_pop.keys()\n",
        "    y=dict_pop.values()\n",
        "    plt.scatter(x,y)\n",
        "    if count==0:\n",
        "      plt.title(\"Winter\")\n",
        "    elif count==1:\n",
        "      plt.title(\"Summer\")\n",
        "    else:\n",
        "      plt.title(\"Autumn\")\n",
        "    plt.tight_layout()\n",
        "    plt.savefig(\"fig\"+str(count)+\".png\",dpi=300)\n",
        "    plt.clf()\n",
        "    count+=1\n",
        "\n",
        "\n"
      ]
    },
    {
      "cell_type": "code",
      "source": [
        "weekly_popularity_df = prepare_data(\"all-weeks-global.csv\") \n",
        "season_list = create_season_df(weekly_popularity_df)"
      ],
      "metadata": {
        "colab": {
          "base_uri": "https://localhost:8080/",
          "height": 34
        },
        "id": "Vpqc4co4X9la",
        "outputId": "67d27b6a-4e82-4cb4-8e30-68e948510059"
      },
      "execution_count": 27,
      "outputs": [
        {
          "output_type": "display_data",
          "data": {
            "text/plain": [
              "<Figure size 432x288 with 0 Axes>"
            ]
          },
          "metadata": {}
        }
      ]
    }
  ]
}